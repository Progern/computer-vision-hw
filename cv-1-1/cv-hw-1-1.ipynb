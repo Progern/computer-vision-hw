{
 "cells": [
  {
   "cell_type": "markdown",
   "metadata": {},
   "source": [
    "# Converting image to Hough space and calculating the number of lines"
   ]
  },
  {
   "cell_type": "code",
   "execution_count": 70,
   "metadata": {},
   "outputs": [],
   "source": [
    "import os \n",
    "from PIL import Image\n",
    "import matplotlib.pyplot as plt\n",
    "import matplotlib.image as mpimg\n",
    "import numpy as np\n",
    "from scipy import ndimage"
   ]
  },
  {
   "cell_type": "code",
   "execution_count": 9,
   "metadata": {},
   "outputs": [],
   "source": [
    "%matplotlib inline"
   ]
  },
  {
   "cell_type": "markdown",
   "metadata": {},
   "source": [
    "## Load sample image"
   ]
  },
  {
   "cell_type": "code",
   "execution_count": 46,
   "metadata": {},
   "outputs": [],
   "source": [
    "sample_image_name = 'marker_cut_rgb_512.png'"
   ]
  },
  {
   "cell_type": "code",
   "execution_count": 75,
   "metadata": {},
   "outputs": [
    {
     "name": "stdout",
     "output_type": "stream",
     "text": [
      "(512, 512)\n"
     ]
    }
   ],
   "source": [
    "sample_image = Image.open(sample_image_name).convert('L')\n",
    "sample_image_arr = np.array(sample_image)\n",
    "print(sample_image_arr.shape)"
   ]
  },
  {
   "cell_type": "markdown",
   "metadata": {},
   "source": [
    "## Hough space math background"
   ]
  },
  {
   "cell_type": "markdown",
   "metadata": {},
   "source": [
    "A line in Cartesian form could be expressed in the equation:\n",
    "\n",
    "*y = mx + b*\n",
    "\n",
    "where: \n",
    "\n",
    "m = gradient or slope of the line (rise/run)   \n",
    "b = y-intercept"
   ]
  },
  {
   "cell_type": "markdown",
   "metadata": {},
   "source": [
    "![Example of two points with various intersections](hough_mb_parameter_space.png)"
   ]
  },
  {
   "cell_type": "markdown",
   "metadata": {},
   "source": [
    "If we have two example points, for each point we can set different values of *m* and therefore obtain different intersections, and we can compute corresponding *b* values."
   ]
  },
  {
   "cell_type": "markdown",
   "metadata": {},
   "source": [
    "All points on a line in image space intersect at a common point in parameter space. This common point *(m, b)* represents the line in image space.\n",
    "Unfortunately, the slope, *m*, is undefined when the line is vertical (division by 0!).\n",
    "To overcome this, we use another parameter space, the hough space."
   ]
  },
  {
   "cell_type": "markdown",
   "metadata": {},
   "source": [
    "## Polar coordinate system"
   ]
  },
  {
   "cell_type": "markdown",
   "metadata": {},
   "source": [
    "A line in Polar coordinate system could be expressed in the equation:\n",
    "\n",
    "*ρ = x cos θ + y sin θ*\n",
    "\n",
    "where:\n",
    "\n",
    "*ρ (rho)* = distance from origin to the line. [-max_dist to max_dist].\n",
    "          max_dist is the diagonal length of the image.  \n",
    "*θ* = angle from origin to the line. [-90° to 90°]\n"
   ]
  },
  {
   "cell_type": "markdown",
   "metadata": {},
   "source": [
    "## Algorithm steps"
   ]
  },
  {
   "cell_type": "markdown",
   "metadata": {},
   "source": [
    "1. **Corner or edge detection**. We can use **Canny, Sobel or Adaptive Thresholding algorithm**. The result of this step is binary or grey image with zeros indicating non-edges and ones indicating edges. The result is now interpreted as our input image\n",
    "\n",
    "2. **Rho range and Theta range creation.** ρ ranges from *-max_dist* to *+max_dist* where *max_dist* is the diagonal length of the input image (the number of diagonal entries in image matrix). θ ranges from *-90∘ to 90∘*. \n",
    "\n",
    "3. **Hough accumulator of θ vs ρ**. Is a 2D array with the number of rows equal to the number of ρ values and the number of columns equal to number of θ values.\n",
    "\n",
    "4. **Accumulator voting**. For each of the edge points and for each of θ we find the nearest corresponding ρ valeu and increment it index in the accumulator. Each element in our accumulator matrix tells how many pixels contributed votes for line candidate with tuple of parameters (ρ, θ)\n",
    "\n",
    "5. **Peak search**. Maximum values in the accumulator matrix indicate parameters of most probable lines in the image. Peaks could be found by applying some threshold."
   ]
  },
  {
   "cell_type": "markdown",
   "metadata": {},
   "source": [
    "## Convolution operator"
   ]
  },
  {
   "cell_type": "markdown",
   "metadata": {},
   "source": [
    "Convolution is a simple mathematical operation which is fundamental to many common image processing operators. Convolution provides a way of multiplying together two arrays of numbers, generally of different sizes, but of the same dimensionality, to produce a third array of numbers of the same dimensionality. \n",
    "\n",
    "This can be used in image processing to implement operators whose output pixel values are simple linear combinations of certain input pixel values.\n",
    "\n",
    "If the image has M rows and N columns, and the kernel has m rows and n columns, then the size of the output image will have *M - m + 1* rows, and *N - n + 1* columns."
   ]
  },
  {
   "cell_type": "markdown",
   "metadata": {},
   "source": [
    "## Canny Edge Detector (CED)"
   ]
  },
  {
   "cell_type": "markdown",
   "metadata": {},
   "source": [
    "*The Canny edge detector is an edge detection operator that uses a multi-stage algorithm to detect a wide range of edges in images. It was developed by John F. Canny in 1986. Canny also produced a computational theory of edge detection explaining why the technique works (C)*"
   ]
  },
  {
   "cell_type": "markdown",
   "metadata": {},
   "source": [
    "The general algorithm goes in five steps:\n",
    "\n",
    "- Noise reduction\n",
    "- Image gradient calculation\n",
    "- Non-maximum suppression (*optional*)\n",
    "- Double threshold (*optional*)\n",
    "- Edge tracking\n",
    "\n",
    "\n",
    "The algorithm is based on grayscale images, so the input image should be grayscale"
   ]
  },
  {
   "cell_type": "markdown",
   "metadata": {},
   "source": [
    "### Noise reduction"
   ]
  },
  {
   "cell_type": "markdown",
   "metadata": {},
   "source": [
    "Since this algorithm is based on gradient calculation it is very sensitive to image noise and the **noise reduction** stage is crucial.\n",
    "The easiest approach is to add Gaussian blur to the image to smooth it. We need to select the kernel size of the Gaussian Filter, which will set the amount of blur."
   ]
  },
  {
   "cell_type": "markdown",
   "metadata": {},
   "source": [
    "![Gaussian Kernel formula](gaussian_kernel_formula.png)"
   ]
  },
  {
   "cell_type": "code",
   "execution_count": 77,
   "metadata": {},
   "outputs": [],
   "source": [
    "def gaussian_kernel(kernel_size, sigma = 1):\n",
    "    '''\n",
    "    Create a Gaussian Kernel of given size\n",
    "    for applying blur to image\n",
    "    '''\n",
    "    \n",
    "    kernel_size = int(kernel_size) // 2\n",
    "    x, y = np.mgrid[-kernel_size:kernel_size+1, -kernel_size:kernel_size+1] \n",
    "    norm = 1 / (2.0 * np.pi * sigma**2)\n",
    "    kernel = np.exp(-((x**2 + y**2) / (2.0*sigma**2))) * norm\n",
    "    \n",
    "    return kernel"
   ]
  },
  {
   "cell_type": "markdown",
   "metadata": {},
   "source": [
    "### Gradient Calculation"
   ]
  },
  {
   "cell_type": "markdown",
   "metadata": {},
   "source": [
    "Gradient calculation detects the edge intensity and direction by calculating the gradient of the whole image using edge detection operators.\n",
    "\n",
    "*Edges correspond to a change of pixels’ intensity. To detect it, the easiest way is to apply filters that highlight this intensity change in both directions: horizontal (x) and vertical (y)*\n",
    "\n",
    "After image smoothing phase the *Ix* and *Iy* are calculated. It could be implemented with Sobel Kernels *Kx* and *Ky*."
   ]
  },
  {
   "cell_type": "markdown",
   "metadata": {},
   "source": [
    "![Sobel Filters](sobel_filters.png)"
   ]
  },
  {
   "cell_type": "markdown",
   "metadata": {},
   "source": [
    "![Magnitude](magnitude.png)"
   ]
  },
  {
   "cell_type": "code",
   "execution_count": 78,
   "metadata": {},
   "outputs": [],
   "source": [
    "def sobel_filters(image):\n",
    "    Kx = np.array([[-1, 0, 1], [-2, 0, 2], [-1, 0, 1]], np.float32)\n",
    "    Ky = np.array([[1, 2, 1], [0, 0, 0], [-1, -2, -1]], np.float32)\n",
    "    \n",
    "    Ix = ndimage.filters.convolve(image, Kx)\n",
    "    Iy = ndimage.filters.convolve(image, Ky)\n",
    "    \n",
    "    G = np.hypot(Ix, Iy)\n",
    "    G = G / G.max() * 255\n",
    "    theta = np.arctan2(Iy, Ix)\n",
    "    \n",
    "    return (G, theta)"
   ]
  },
  {
   "cell_type": "markdown",
   "metadata": {},
   "source": [
    "### Non-maximum suppression"
   ]
  },
  {
   "cell_type": "markdown",
   "metadata": {},
   "source": [
    "This approach is used to have thin edges in our images. Non-thin edges could be encountered due to various reasons - one of them is blur. The princimple is quite simple: the algorithm goes through all the points on the gradient intensity matrix and finds the pixels with maximum value in the edge directions."
   ]
  },
  {
   "cell_type": "code",
   "execution_count": null,
   "metadata": {},
   "outputs": [],
   "source": []
  },
  {
   "cell_type": "code",
   "execution_count": null,
   "metadata": {},
   "outputs": [],
   "source": []
  },
  {
   "cell_type": "code",
   "execution_count": null,
   "metadata": {},
   "outputs": [],
   "source": []
  },
  {
   "cell_type": "code",
   "execution_count": null,
   "metadata": {},
   "outputs": [],
   "source": []
  },
  {
   "cell_type": "code",
   "execution_count": null,
   "metadata": {},
   "outputs": [],
   "source": []
  },
  {
   "cell_type": "code",
   "execution_count": null,
   "metadata": {},
   "outputs": [],
   "source": [
    "# Test the functions\n",
    "\n",
    "smoothed_image = ndimage.filters.convolve(sample_image_arr, gaussian_kernel(5))\n",
    "\n",
    "grad_matrix, theta_matrix = sobel_filters(smoothed_image)\n",
    "\n",
    "imgplot = plt.imshow(smoothed_image)"
   ]
  },
  {
   "cell_type": "code",
   "execution_count": 14,
   "metadata": {},
   "outputs": [],
   "source": [
    "# Hyperparameters, that could be adjusted\n",
    "\n",
    "theta_min = -90.0\n",
    "theta_max = 90.0"
   ]
  },
  {
   "cell_type": "code",
   "execution_count": 21,
   "metadata": {},
   "outputs": [],
   "source": [
    "def HoughLines(image):\n",
    "    '''\n",
    "    Takes an input image as numpy array after\n",
    "    some transformation (Canny, Sobel, Adaptive thresholding)\n",
    "    and returns thetas, rhos and accumulator\n",
    "    '''\n",
    "    \n",
    "    # Rho range and Theta range creation\n",
    "    \n",
    "    width, height = image.shape[0], image.shape[1]\n",
    "    thetas = np.deg2rad(np.arange(theta_min, theta_max))\n",
    "    \n",
    "    max_distance = np.ceil(np.sqrt(width**2 + height**2))\n",
    "    rhos = np.linspace(-max_distance, max_distance, max_distance * 2)\n",
    "    \n",
    "    # Calculate the sinus and cosinus of theta values\n",
    "    \n",
    "    theta_cos = np.cos(thetas)\n",
    "    theta_sin = np.sin(thetas)\n",
    "    \n",
    "    # Create Hough accumulator\n",
    "    \n",
    "    accumulator = np.zeros(2 * max_distance, len(thetas), dtype = np.uint64)\n",
    "    \n",
    "    # Edge indexes\n",
    "    \n",
    "    y_id, x_id = np.nonzero(image)\n",
    "    \n",
    "    # Accumulator voting\n",
    "    \n",
    "    # Go through every index of column indexes to edges\n",
    "    for i in range(len(x_id)):\n",
    "        \n",
    "        x = x_id[i]\n",
    "        y = y_id[i]\n",
    "        \n",
    "        # And vote through every theta\n",
    "        for theta_i in range(len(thetas)):\n",
    "            rho = np.round(x * theta_cos[theta_i] + y * theta_sin[theta_i]) + max_distance\n",
    "            accumulator[rho, t_idx] += 1\n",
    "            \n",
    "    return thetas, rhos, accumulator"
   ]
  }
 ],
 "metadata": {
  "kernelspec": {
   "display_name": "Python 3",
   "language": "python",
   "name": "python3"
  },
  "language_info": {
   "codemirror_mode": {
    "name": "ipython",
    "version": 3
   },
   "file_extension": ".py",
   "mimetype": "text/x-python",
   "name": "python",
   "nbconvert_exporter": "python",
   "pygments_lexer": "ipython3",
   "version": "3.6.7"
  }
 },
 "nbformat": 4,
 "nbformat_minor": 2
}
