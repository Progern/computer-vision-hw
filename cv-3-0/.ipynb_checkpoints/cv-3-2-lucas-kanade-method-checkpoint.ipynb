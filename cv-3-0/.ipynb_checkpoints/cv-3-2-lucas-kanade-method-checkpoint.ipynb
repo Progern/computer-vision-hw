{
 "cells": [
  {
   "cell_type": "markdown",
   "metadata": {},
   "source": [
    "# Lucas-Kanade Tracking"
   ]
  },
  {
   "cell_type": "markdown",
   "metadata": {},
   "source": [
    "- Create a command-line tool (interactive notebook instead) that accepts the ROI of the target (the portion of the image should be tracked in the video) and the path to the dataset and performs tracking of the target over the image sequence from the dataset. \n",
    "\n",
    "- Visualize the current image and highligh the targets location by a rectangle.\n",
    "\n",
    "- Find conditions where tracking is lost and explain why."
   ]
  },
  {
   "cell_type": "markdown",
   "metadata": {},
   "source": [
    "## Problems"
   ]
  },
  {
   "cell_type": "markdown",
   "metadata": {},
   "source": [
    "- Implement template-matching in Python using SSD, NCC, SAD\n",
    "- Code Lucas-Kanade algorithm in Python using OpenCV\n",
    "- Implement pyramidal extension to Lucas-Kanade algorithm\n",
    "- Test on the 3 datasets \n",
    "\n",
    "*Datasets:* http://cvlab.hanyang.ac.kr/tracker_benchmark/datasets.html"
   ]
  },
  {
   "cell_type": "code",
   "execution_count": 1,
   "metadata": {},
   "outputs": [],
   "source": [
    "import cv2\n",
    "import numpy as np\n",
    "import os \n",
    "import matplotlib.pyplot as plt"
   ]
  },
  {
   "cell_type": "markdown",
   "metadata": {},
   "source": [
    "## Problem 1. Implement template-matching using SSD, NCC, SAD"
   ]
  },
  {
   "cell_type": "code",
   "execution_count": 13,
   "metadata": {},
   "outputs": [],
   "source": [
    "def get_patch_from_img(image, x, y, w, h):\n",
    "    \"\"\"\n",
    "    Returns patch sub-matrix from the input image\n",
    "    \n",
    "    Input:\n",
    "    image - numpy array\n",
    "    x, y - initial coordinates of the patch\n",
    "    w, h - stretching width and heigth coordinates of the patch\n",
    "    \n",
    "    Output:\n",
    "    Sub-matrix of input image\n",
    "    \"\"\"\n",
    "    \n",
    "    im_copy = np.copy(image)\n",
    "    \n",
    "    return im_copy[x:x + w, y:y + h]  "
   ]
  },
  {
   "cell_type": "code",
   "execution_count": null,
   "metadata": {},
   "outputs": [],
   "source": [
    "def match_template_ssd(image, patch):\n",
    "    \"\"\"\n",
    "    Performs template matching using image and patch. Returns a resulting matrix \n",
    "    of matching intensity.\n",
    "    \n",
    "    Input:\n",
    "    image - numpy matrix\n",
    "    patch - numpy matrix, usually less dimensions than image\n",
    "    \n",
    "    Ouput:\n",
    "    intensity numpy matrix\n",
    "    \"\"\"\n",
    "    \n",
    "    # Save the input image shape\n",
    "    w, h, c = image.shape\n",
    "    \n",
    "    # Flatten the image matrix\n",
    "    image_fl = image.flatten()\n",
    "    \n",
    "    # Flatten the patch/kernel\n",
    "    patch_fl = patch.flatten()\n",
    "    \n",
    "    # Save the length of the vector to perform sliding\n",
    "    patch_fl_len = len(patch_fl)\n",
    "    \n",
    "    # Create an empty output vector, that would be reshaped back\n",
    "    output_fl = np.zeros(patch_fl_len)\n",
    "    \n",
    "    # Perform a sliding window on 1-d vector (sort of im2col trick)\n",
    "    for i in range(len(image_fl)):\n",
    "         output_fl[i] = np.sum()\n",
    "    \n",
    "    "
   ]
  }
 ],
 "metadata": {
  "kernelspec": {
   "display_name": "Python 3",
   "language": "python",
   "name": "python3"
  },
  "language_info": {
   "codemirror_mode": {
    "name": "ipython",
    "version": 3
   },
   "file_extension": ".py",
   "mimetype": "text/x-python",
   "name": "python",
   "nbconvert_exporter": "python",
   "pygments_lexer": "ipython3",
   "version": "3.6.5"
  }
 },
 "nbformat": 4,
 "nbformat_minor": 2
}
