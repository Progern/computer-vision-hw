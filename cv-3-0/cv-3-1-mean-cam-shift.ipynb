{
 "cells": [
  {
   "cell_type": "markdown",
   "metadata": {},
   "source": [
    "# Mean-Shift algorithm"
   ]
  },
  {
   "cell_type": "markdown",
   "metadata": {},
   "source": [
    "## Problems"
   ]
  },
  {
   "cell_type": "markdown",
   "metadata": {},
   "source": [
    "- Implement mean-shift algorithm\n",
    "- Implement CAMSHIFT algorithm and compare the results with the MeanShift\n",
    "- Develop tracking demo using your tracker and OpenCV’s counterpart and test on 5 datasets from http://cvlab.hanyang.ac.kr/tracker_benchmark/datasets.html\n",
    "- Use MeanShift to cluster the data from here: https://cs.joensuu.fi/sipu/datasets/. Use G2 sets and S sets. Compare the data with ground truth."
   ]
  },
  {
   "cell_type": "markdown",
   "metadata": {},
   "source": [
    "## Problem 1. Implement Mean-Shift algorithm"
   ]
  },
  {
   "cell_type": "markdown",
   "metadata": {},
   "source": [
    "The algorithm is implemented in the separate script in *helpers/mean_shift.py*. \n",
    "\n",
    "To run in just run *python mean_shift.py*. This will open your webcam and you can select the desired point of object to track. \n",
    "\n",
    "If you want to pass videofile to track object use *python mean_shift.py video_file_name*. It is important for videofile to be in the same directory or otherwise provide path to the videofile.\n",
    "\n",
    "**How to reproduce:**\n",
    "- Download video file or sequence of frames (packed in folder)\n",
    "- If you have a video file that is in the same folder as the script just follow the instructions above \n",
    "- If you have a sequence of frames in the folder you should ensure that all frame image files follow the same image convention (for ex. 0001.jpg, 0002.jpg, ..., 1001.jpg).\n",
    "- If your frame files follow the same convention you must pass an argument to the script with rejex. For the example from previous item you should use something like *\"folder_name/%0**4**d.jpg\"*, which shows that your files have **4** characters in name that are changing integers (the dataset linked at the beginning of notebook uses exactly this name convention).\n",
    "\n",
    "You can see the demos of how implemented algorithm performs following the link: https://drive.google.com/drive/folders/1o0RMp4tAzHMzZnYp2-HeLnnkvM8i98Nv?usp=sharing"
   ]
  },
  {
   "cell_type": "markdown",
   "metadata": {},
   "source": [
    "## Problem 2. Implement CAMSHIFT algorithm."
   ]
  },
  {
   "cell_type": "markdown",
   "metadata": {},
   "source": [
    "The algorithm is implemented in the separate script in *helpers/cam_shift.py*. \n",
    "\n",
    "To run in just run *python cam_shift.py*. This will open your webcam and you can select the desired point of object to track. \n",
    "\n",
    "If you want to pass videofile to track object use *python cam_shift.py video_file_name*. It is important for videofile to be in the same directory or otherwise provide path to the videofile.\n",
    "\n",
    "**How to reproduce:**\n",
    "The same logic as with mean-shift, except that you call other script\n",
    "\n",
    "You can see the demos of how implemented algorithm performs following the link: \n",
    "https://drive.google.com/drive/folders/1hQMsj-s1qxHwrWNvjn_VRVGrFN1a2faq?usp=sharing"
   ]
  },
  {
   "cell_type": "markdown",
   "metadata": {},
   "source": [
    "## Problem 3. Use Mean-Shift to cluster the data"
   ]
  },
  {
   "cell_type": "code",
   "execution_count": null,
   "metadata": {},
   "outputs": [],
   "source": []
  }
 ],
 "metadata": {
  "kernelspec": {
   "display_name": "Python 3",
   "language": "python",
   "name": "python3"
  },
  "language_info": {
   "codemirror_mode": {
    "name": "ipython",
    "version": 3
   },
   "file_extension": ".py",
   "mimetype": "text/x-python",
   "name": "python",
   "nbconvert_exporter": "python",
   "pygments_lexer": "ipython3",
   "version": "3.6.7"
  }
 },
 "nbformat": 4,
 "nbformat_minor": 2
}
