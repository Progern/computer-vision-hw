{
 "cells": [
  {
   "cell_type": "markdown",
   "metadata": {},
   "source": [
    "# Mean-Shift algorithm"
   ]
  },
  {
   "cell_type": "markdown",
   "metadata": {},
   "source": [
    "## Problems"
   ]
  },
  {
   "cell_type": "markdown",
   "metadata": {},
   "source": [
    "- Implement mean-shift algorithm\n",
    "- Implement CAMSHIFT algorithm and compare the results with the MeanShift\n",
    "- Develop tracking demo using your tracker and OpenCV’s counterpart and test on 5 datasets from http://cvlab.hanyang.ac.kr/tracker_benchmark/datasets.html\n",
    "- Use MeanShift to cluster the data from here: https://cs.joensuu.fi/sipu/datasets/. Use G2 sets and S sets. Compare the data with ground truth."
   ]
  },
  {
   "cell_type": "code",
   "execution_count": null,
   "metadata": {},
   "outputs": [],
   "source": []
  }
 ],
 "metadata": {
  "kernelspec": {
   "display_name": "Python 3",
   "language": "python",
   "name": "python3"
  },
  "language_info": {
   "codemirror_mode": {
    "name": "ipython",
    "version": 3
   },
   "file_extension": ".py",
   "mimetype": "text/x-python",
   "name": "python",
   "nbconvert_exporter": "python",
   "pygments_lexer": "ipython3",
   "version": "3.6.7"
  }
 },
 "nbformat": 4,
 "nbformat_minor": 2
}
