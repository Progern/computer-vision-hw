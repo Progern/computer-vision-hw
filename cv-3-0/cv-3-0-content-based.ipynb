{
 "cells": [
  {
   "cell_type": "markdown",
   "metadata": {},
   "source": [
    "# Content-Based Image Retrieval "
   ]
  },
  {
   "cell_type": "markdown",
   "metadata": {},
   "source": [
    "Implementing a very simple **content based image search system** and **evaluating its performance**. The dataset used is **U. Kentucky Benchmark Image Database**.\n",
    "\n",
    "**NOTE:** The dataset won't be posted on the GitHub, you could use the link to download the dataset: http://www.ee.columbia.edu/~rj2349/index_files/Homework1/\n",
    "\n",
    "**The dataset should be placed in** *data/hw1* directory in order for IPython Notebook to work correctly."
   ]
  },
  {
   "cell_type": "markdown",
   "metadata": {},
   "source": [
    "The original database includes 2,550 objects with 4 images for each object (total of 10,200 images). The images were taken to simulate variations of lighting, view, occlusion, scale, etc."
   ]
  },
  {
   "cell_type": "markdown",
   "metadata": {},
   "source": [
    "## Problems"
   ]
  },
  {
   "cell_type": "markdown",
   "metadata": {},
   "source": [
    "- Write a program to extract the color histogram of each of the 2,000 images. Choose the parameters required with justifications. Implement your own histogram code and compare its results with open-source API like OpenCV and numpy.\n",
    "\n",
    "- Write a program to measure the L2 distance between color histograms of two images.\n",
    "\n",
    "- Use 5 images shown above (ukbench00004.jpg; ukbench00040.jpg; ukbench00060.jpg; ukbench00588.jpg; ukbench01562.jpg) as queries. For each query image, find 10 best matches from the 2,000 images based on the color histogram similarity. Plot the query image and the 10 returned matches (use icons of reduced resolution to save space)\n",
    "\n",
    "- Write a program to measure and plot the P-R curve for each query\n",
    "\n",
    "- Discuss and explain success and failure cases.\n",
    "\n",
    "- (Optional) try to improve the results by using a different feature or distance metrics (bag of words, 3d-color histograms etc) of your choice. Justify your choice with qualitative reasons and back it up with performance comparison results."
   ]
  },
  {
   "cell_type": "code",
   "execution_count": 13,
   "metadata": {},
   "outputs": [],
   "source": [
    "import cv2\n",
    "import numpy as np\n",
    "import os \n",
    "import matplotlib.pyplot as plt"
   ]
  },
  {
   "cell_type": "code",
   "execution_count": 14,
   "metadata": {},
   "outputs": [],
   "source": [
    "%matplotlib inline"
   ]
  },
  {
   "cell_type": "code",
   "execution_count": 24,
   "metadata": {},
   "outputs": [],
   "source": [
    "# Path constants\n",
    "work_dir_path = os.getcwd()\n",
    "data_dir_path = os.path.join(work_dir_path, 'data')\n",
    "\n",
    "# Please pay attention that the downloaded dataset should be in this folder\n",
    "dataset_dir_path = os.path.join(data_dir_path, 'hw_1')"
   ]
  },
  {
   "cell_type": "markdown",
   "metadata": {},
   "source": [
    "## Helper functions"
   ]
  },
  {
   "cell_type": "markdown",
   "metadata": {},
   "source": [
    "All helper functions and core functions would be moved into separate pyscript in the folder *scripts/*"
   ]
  },
  {
   "cell_type": "code",
   "execution_count": 33,
   "metadata": {},
   "outputs": [],
   "source": [
    "def read_image(img_name):\n",
    "    return cv2.imread(get_img_abs_path(img_name))\n",
    "\n",
    "def get_img_abs_path(img_name):\n",
    "    return os.path.join(dataset_dir_path, img_name)"
   ]
  },
  {
   "cell_type": "code",
   "execution_count": 69,
   "metadata": {},
   "outputs": [],
   "source": [
    "def color_hist(image):\n",
    "    \"\"\"\n",
    "    Creates a color histogram of the input image\n",
    "    \n",
    "    Input:\n",
    "    image - matrix, input image matrix\n",
    "    \n",
    "    Output:\n",
    "    hist - numpy array consisting of 256 values, each will indicate\n",
    "    the number of occurences of pixel intensity\n",
    "    \n",
    "    TODO: Grayscale images\n",
    "    \"\"\"\n",
    "    \n",
    "    hist = np.zeros(256)\n",
    "    \n",
    "    flat_img = image.ravel()\n",
    "    \n",
    "    # Iterate over each pixel\n",
    "    for pixel in flat_img:\n",
    "        # Increment the occurence of pixel value\n",
    "        hist[pixel] += 1\n",
    "    \n",
    "    return hist\n",
    "\n",
    "\n",
    "def show_color_hist(hist):\n",
    "    plt.hist(hist, range = (0, 255))\n",
    "    plt.title('Color histogram')\n",
    "    plt.show()"
   ]
  },
  {
   "cell_type": "markdown",
   "metadata": {},
   "source": [
    "## Testing the color histogram solution"
   ]
  },
  {
   "cell_type": "code",
   "execution_count": 70,
   "metadata": {},
   "outputs": [],
   "source": [
    "# Let's load a sample image and compute it's color histogram\n",
    "test_img = read_image(os.listdir(dataset_dir_path)[-1])\n",
    "test_hist = color_hist(test_img)"
   ]
  },
  {
   "cell_type": "code",
   "execution_count": 71,
   "metadata": {},
   "outputs": [],
   "source": [
    "# Let's use numpy solution for comparison\n",
    "np_hist = np.histogram(test_img.ravel(), 256, [0,256])"
   ]
  },
  {
   "cell_type": "code",
   "execution_count": 72,
   "metadata": {},
   "outputs": [
    {
     "name": "stdout",
     "output_type": "stream",
     "text": [
      "Custom solution returns the same result as NumPy solution:  True\n"
     ]
    }
   ],
   "source": [
    "# Now let's compare two vectors\n",
    "print(\"Custom solution returns the same result as NumPy solution: \", (test_hist == np_hist[0]).all())"
   ]
  },
  {
   "cell_type": "code",
   "execution_count": 73,
   "metadata": {},
   "outputs": [
    {
     "data": {
      "image/png": "[encoded data removed]",
      "text/plain": [
       "<Figure size 432x288 with 1 Axes>"
      ]
     },
     "metadata": {},
     "output_type": "display_data"
    }
   ],
   "source": [
    "show_color_hist(test_hist)"
   ]
  },
  {
   "cell_type": "code",
   "execution_count": null,
   "metadata": {},
   "outputs": [],
   "source": []
  }
 ],
 "metadata": {
  "kernelspec": {
   "display_name": "Python 3",
   "language": "python",
   "name": "python3"
  },
  "language_info": {
   "codemirror_mode": {
    "name": "ipython",
    "version": 3
   },
   "file_extension": ".py",
   "mimetype": "text/x-python",
   "name": "python",
   "nbconvert_exporter": "python",
   "pygments_lexer": "ipython3",
   "version": "3.6.5"
  }
 },
 "nbformat": 4,
 "nbformat_minor": 2
}
