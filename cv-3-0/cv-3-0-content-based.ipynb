{
 "cells": [
  {
   "cell_type": "markdown",
   "metadata": {},
   "source": [
    "# Content-Based Image Retrieval "
   ]
  },
  {
   "cell_type": "markdown",
   "metadata": {},
   "source": [
    "Implementing a very simple **content based image search system** and **evaluating its performance**. The dataset used is **U. Kentucky Benchmark Image Database**.\n",
    "\n",
    "**NOTE:** The dataset won't be posted on the GitHub, you could use the link to download the dataset: http://www.ee.columbia.edu/~rj2349/index_files/Homework1/\n",
    "\n",
    "**The dataset should be placed in** *data/hw1* directory in order for IPython Notebook to work correctly."
   ]
  },
  {
   "cell_type": "markdown",
   "metadata": {},
   "source": [
    "The original database includes 2,550 objects with 4 images for each object (total of 10,200 images). The images were taken to simulate variations of lighting, view, occlusion, scale, etc."
   ]
  },
  {
   "cell_type": "markdown",
   "metadata": {},
   "source": [
    "## Problems"
   ]
  },
  {
   "cell_type": "markdown",
   "metadata": {},
   "source": [
    "- Write a program to extract the color histogram of each of the 2,000 images. Choose the parameters required with justifications. Implement your own histogram code and compare its results with open-source API like OpenCV and numpy.\n",
    "\n",
    "- Write a program to measure the L2 distance between color histograms of two images.\n",
    "\n",
    "- Use 5 images shown above (ukbench00004.jpg; ukbench00040.jpg; ukbench00060.jpg; ukbench00588.jpg; ukbench01562.jpg) as queries. For each query image, find 10 best matches from the 2,000 images based on the color histogram similarity. Plot the query image and the 10 returned matches (use icons of reduced resolution to save space)\n",
    "\n",
    "- Write a program to measure and plot the P-R curve for each query\n",
    "\n",
    "- Discuss and explain success and failure cases.\n",
    "\n",
    "- (Optional) try to improve the results by using a different feature or distance metrics (bag of words, 3d-color histograms etc) of your choice. Justify your choice with qualitative reasons and back it up with performance comparison results."
   ]
  },
  {
   "cell_type": "code",
   "execution_count": 13,
   "metadata": {},
   "outputs": [],
   "source": [
    "import cv2\n",
    "import numpy as np\n",
    "import os \n",
    "import matplotlib.pyplot as plt"
   ]
  },
  {
   "cell_type": "code",
   "execution_count": 14,
   "metadata": {},
   "outputs": [],
   "source": [
    "%matplotlib inline"
   ]
  },
  {
   "cell_type": "code",
   "execution_count": 24,
   "metadata": {},
   "outputs": [],
   "source": [
    "# Path constants\n",
    "work_dir_path = os.getcwd()\n",
    "data_dir_path = os.path.join(work_dir_path, 'data')\n",
    "\n",
    "# Please pay attention that the downloaded dataset should be in this folder\n",
    "dataset_dir_path = os.path.join(data_dir_path, 'hw_1')"
   ]
  },
  {
   "cell_type": "markdown",
   "metadata": {},
   "source": [
    "## Helper functions"
   ]
  },
  {
   "cell_type": "markdown",
   "metadata": {},
   "source": [
    "All helper functions and core functions would be moved into separate pyscript in the folder *scripts/*"
   ]
  },
  {
   "cell_type": "code",
   "execution_count": 33,
   "metadata": {},
   "outputs": [],
   "source": [
    "def read_image(img_name):\n",
    "    return cv2.imread(get_img_abs_path(img_name))\n",
    "\n",
    "def get_img_abs_path(img_name):\n",
    "    return os.path.join(dataset_dir_path, img_name)"
   ]
  },
  {
   "cell_type": "markdown",
   "metadata": {},
   "source": [
    "## Problem 1. Extract color histogram from the image"
   ]
  },
  {
   "cell_type": "code",
   "execution_count": 94,
   "metadata": {},
   "outputs": [],
   "source": [
    "def color_hist(image):\n",
    "    \"\"\"\n",
    "    Creates a color histogram of the input image\n",
    "    \n",
    "    Input:\n",
    "    image - matrix, input image matrix\n",
    "    \n",
    "    Output:\n",
    "    hist - numpy array consisting of 256 values, each will indicate\n",
    "    the number of occurences of pixel intensity\n",
    "    \n",
    "    TODO: Grayscale images\n",
    "    \"\"\"\n",
    "    \n",
    "    hist = np.zeros(256)\n",
    "    \n",
    "    flat_img = image.ravel()\n",
    "    \n",
    "    # Iterate over each pixel\n",
    "    for pixel in flat_img:\n",
    "        # Increment the occurence of pixel value\n",
    "        hist[pixel] += 1\n",
    "    \n",
    "    return hist"
   ]
  },
  {
   "cell_type": "markdown",
   "metadata": {},
   "source": [
    "## Testing the color histogram solution"
   ]
  },
  {
   "cell_type": "code",
   "execution_count": 95,
   "metadata": {},
   "outputs": [],
   "source": [
    "# Let's load a sample image and compute it's color histogram\n",
    "test_img = read_image(os.listdir(dataset_dir_path)[-1])\n",
    "test_hist = color_hist(test_img)"
   ]
  },
  {
   "cell_type": "code",
   "execution_count": 96,
   "metadata": {},
   "outputs": [],
   "source": [
    "# Let's use numpy solution for comparison\n",
    "np_hist = np.histogram(test_img.ravel(), 256, [0,256])"
   ]
  },
  {
   "cell_type": "code",
   "execution_count": 97,
   "metadata": {},
   "outputs": [
    {
     "name": "stdout",
     "output_type": "stream",
     "text": [
      "Custom solution returns the same result as NumPy solution:  True\n"
     ]
    }
   ],
   "source": [
    "# Now let's compare two vectors\n",
    "print(\"Custom solution returns the same result as NumPy solution: \", (test_hist == np_hist[0]).all())"
   ]
  },
  {
   "cell_type": "markdown",
   "metadata": {},
   "source": [
    "## Problem 2. L2 distance between color histograms"
   ]
  },
  {
   "cell_type": "code",
   "execution_count": 107,
   "metadata": {},
   "outputs": [],
   "source": [
    "def l2_dist(hist1, hist2):\n",
    "    \"\"\"\n",
    "    Computes L2 distance between two numpy vectors/matrices\n",
    "    \n",
    "    Input:\n",
    "    hist1, hist2 - numpy vectors/matrices to compute distance between\n",
    "    \n",
    "    Output:\n",
    "    distance - scalar value showing distance between two vectors/matrices\n",
    "    \"\"\"\n",
    "    distance = np.sum(np.abs(hist1 - hist2))\n",
    "    \n",
    "    return distance"
   ]
  },
  {
   "cell_type": "markdown",
   "metadata": {},
   "source": [
    "## Problem 3. Finding best matches for query images"
   ]
  },
  {
   "cell_type": "markdown",
   "metadata": {},
   "source": [
    "### First of all we need to compute the color histogram for each of 2000 images. This process may take significant amount of time, so be patient."
   ]
  },
  {
   "cell_type": "code",
   "execution_count": 134,
   "metadata": {
    "scrolled": true
   },
   "outputs": [],
   "source": [
    "def compute_color_hist_for_all_images(log = True):\n",
    "    \"\"\"\n",
    "    Computes the color histogram for all images from the data folder\n",
    "    and returns two arrays image_names, image_names_color_hists\n",
    "    \"\"\"\n",
    "        \n",
    "    # Variable for indicating the current processed image\n",
    "    processed_image = 0\n",
    "    \n",
    "    # List of image names\n",
    "    image_names_list = os.listdir(dataset_dir_path)\n",
    "    image_names_len = len(image_names_list)\n",
    "    \n",
    "    # Create empty two empty lists for image names and corresponding histograms\n",
    "    image_names = []\n",
    "    color_hists = []\n",
    "    \n",
    "\n",
    "    # Iterate over each image\n",
    "    for index, image_name in enumerate(image_names_list):\n",
    "    \n",
    "        # Set the corresponding values in arrays\n",
    "        image_names.append(image_name)\n",
    "        color_hists.append(color_hist(read_image(image_name)))\n",
    "        \n",
    "        processed_image += 1\n",
    "        if(log and (processed_image % 100 == 0)):\n",
    "            print(\"Processed %d of %d images\" % (processed_image, image_names_len))     \n",
    "        \n",
    "        \n",
    "    return image_names, color_hists"
   ]
  },
  {
   "cell_type": "code",
   "execution_count": 135,
   "metadata": {
    "scrolled": true
   },
   "outputs": [
    {
     "name": "stdout",
     "output_type": "stream",
     "text": [
      "Processed 20 of 2000 images\n",
      "Processed 40 of 2000 images\n",
      "Processed 60 of 2000 images\n",
      "Processed 80 of 2000 images\n",
      "Processed 100 of 2000 images\n",
      "Processed 120 of 2000 images\n",
      "Processed 140 of 2000 images\n",
      "Processed 160 of 2000 images\n",
      "Processed 180 of 2000 images\n",
      "Processed 200 of 2000 images\n",
      "Processed 220 of 2000 images\n",
      "Processed 240 of 2000 images\n",
      "Processed 260 of 2000 images\n",
      "Processed 280 of 2000 images\n",
      "Processed 300 of 2000 images\n",
      "Processed 320 of 2000 images\n",
      "Processed 340 of 2000 images\n",
      "Processed 360 of 2000 images\n",
      "Processed 380 of 2000 images\n",
      "Processed 400 of 2000 images\n",
      "Processed 420 of 2000 images\n",
      "Processed 440 of 2000 images\n",
      "Processed 460 of 2000 images\n",
      "Processed 480 of 2000 images\n",
      "Processed 500 of 2000 images\n",
      "Processed 520 of 2000 images\n",
      "Processed 540 of 2000 images\n",
      "Processed 560 of 2000 images\n",
      "Processed 580 of 2000 images\n",
      "Processed 600 of 2000 images\n",
      "Processed 620 of 2000 images\n",
      "Processed 640 of 2000 images\n",
      "Processed 660 of 2000 images\n",
      "Processed 680 of 2000 images\n",
      "Processed 700 of 2000 images\n",
      "Processed 720 of 2000 images\n",
      "Processed 740 of 2000 images\n",
      "Processed 760 of 2000 images\n",
      "Processed 780 of 2000 images\n",
      "Processed 800 of 2000 images\n",
      "Processed 820 of 2000 images\n",
      "Processed 840 of 2000 images\n",
      "Processed 860 of 2000 images\n",
      "Processed 880 of 2000 images\n",
      "Processed 900 of 2000 images\n",
      "Processed 920 of 2000 images\n",
      "Processed 940 of 2000 images\n",
      "Processed 960 of 2000 images\n",
      "Processed 980 of 2000 images\n",
      "Processed 1000 of 2000 images\n",
      "Processed 1020 of 2000 images\n",
      "Processed 1040 of 2000 images\n",
      "Processed 1060 of 2000 images\n",
      "Processed 1080 of 2000 images\n",
      "Processed 1100 of 2000 images\n",
      "Processed 1120 of 2000 images\n",
      "Processed 1140 of 2000 images\n",
      "Processed 1160 of 2000 images\n",
      "Processed 1180 of 2000 images\n",
      "Processed 1200 of 2000 images\n",
      "Processed 1220 of 2000 images\n",
      "Processed 1240 of 2000 images\n",
      "Processed 1260 of 2000 images\n",
      "Processed 1280 of 2000 images\n",
      "Processed 1300 of 2000 images\n",
      "Processed 1320 of 2000 images\n",
      "Processed 1340 of 2000 images\n",
      "Processed 1360 of 2000 images\n",
      "Processed 1380 of 2000 images\n",
      "Processed 1400 of 2000 images\n",
      "Processed 1420 of 2000 images\n",
      "Processed 1440 of 2000 images\n",
      "Processed 1460 of 2000 images\n",
      "Processed 1480 of 2000 images\n",
      "Processed 1500 of 2000 images\n",
      "Processed 1520 of 2000 images\n",
      "Processed 1540 of 2000 images\n",
      "Processed 1560 of 2000 images\n",
      "Processed 1580 of 2000 images\n",
      "Processed 1600 of 2000 images\n",
      "Processed 1620 of 2000 images\n",
      "Processed 1640 of 2000 images\n",
      "Processed 1660 of 2000 images\n",
      "Processed 1680 of 2000 images\n",
      "Processed 1700 of 2000 images\n",
      "Processed 1720 of 2000 images\n",
      "Processed 1740 of 2000 images\n",
      "Processed 1760 of 2000 images\n",
      "Processed 1780 of 2000 images\n",
      "Processed 1800 of 2000 images\n",
      "Processed 1820 of 2000 images\n",
      "Processed 1840 of 2000 images\n",
      "Processed 1860 of 2000 images\n",
      "Processed 1880 of 2000 images\n",
      "Processed 1900 of 2000 images\n",
      "Processed 1920 of 2000 images\n",
      "Processed 1940 of 2000 images\n",
      "Processed 1960 of 2000 images\n",
      "Processed 1980 of 2000 images\n",
      "Processed 2000 of 2000 images\n"
     ]
    }
   ],
   "source": [
    "image_names, image_colors_hists = compute_color_hist_for_all_images(True)"
   ]
  },
  {
   "cell_type": "code",
   "execution_count": 115,
   "metadata": {},
   "outputs": [],
   "source": [
    "query_images = ['ukbench00004.jpg', 'ukbench00040.jpg', \n",
    "                'ukbench00060.jpg', 'ukbench00588.jpg', 'ukbench01562.jpg']"
   ]
  },
  {
   "cell_type": "code",
   "execution_count": 142,
   "metadata": {},
   "outputs": [],
   "source": [
    "def compute_query_for_image(query_image_name, image_names, image_colors_hists, k = 10):\n",
    "    \"\"\"\n",
    "    Computes L2 distance between query_image_name and each of image_names entries\n",
    "    \n",
    "    Input:\n",
    "    query_image_name - string, name of the image to be queried on\n",
    "    image_names - list, list of image names\n",
    "    image_colors_hists - list, list of corresponding to image_names entries color histograms by index\n",
    "    k - int, indicates how many best matches should be searched for query_image_name\n",
    "    \n",
    "    Output:\n",
    "    (query_image_name, k_best_matches_names) - tuple, best_matches is a list containing names of k-best matched images\n",
    "    \n",
    "    \"\"\"\n",
    "    \n",
    "    # Empty array to store l2 distances from target image to all other images\n",
    "    l2_distances = np.zeros(len(image_names))\n",
    "    \n",
    "    # Target image color histogram\n",
    "    target_hist = color_hist(read_image(query_image_name))\n",
    "    \n",
    "    \n",
    "    # Iterate over each of the image_color_hists entries\n",
    "    for index, image_hist in enumerate(image_colors_hists):\n",
    "        l2_distances[index] = l2_dist(target_hist, image_hist) \n",
    "        \n",
    "    \n",
    "    # Find k-indicies of the best matches\n",
    "    k_best_matches = np.argpartition(l2_distances, -k)[-k:]\n",
    "    \n",
    "    # Get names of k-best matched indicies\n",
    "    k_best_matches_names = [image_names[i] for i in k_best_matches]\n",
    "    \n",
    "    return (query_image_name, k_best_matches_names)  "
   ]
  },
  {
   "cell_type": "code",
   "execution_count": null,
   "metadata": {},
   "outputs": [],
   "source": [
    "def plot_target_query_and_results(query_image_test_name, k_best_test_matches):\n",
    "    \"\"\"\n",
    "    Plots the target query image alongside with k-best image matches\n",
    "    \"\"\"\n",
    "    \n",
    "    # Create figure for plotting several images\n",
    "    fig=plt.figure(figsize=(8, 8))\n",
    "    columns = 4\n",
    "    rows = 3\n",
    "    \n",
    "    # Add query image\n",
    "    fig.add_subplot(rows, columns, 0)\n",
    "    plt.imshow(read_image(query_image_test_name))\n",
    "    \n",
    "    # Add all best k-matches images\n",
    "    for i in range(len(1, k_best_test_matches)):\n",
    "        img = read_image(k_best_test_matches[i])\n",
    "        fig.add_subplot(rows, columns, i)\n",
    "        plt.imshow(img)\n",
    "        \n",
    "    plt.show()"
   ]
  },
  {
   "cell_type": "code",
   "execution_count": 143,
   "metadata": {},
   "outputs": [],
   "source": [
    "query_image_test_name, k_best_test_matches = compute_query_for_image('ukbench00004.jpg', image_names, image_colors_hists)"
   ]
  },
  {
   "cell_type": "code",
   "execution_count": null,
   "metadata": {},
   "outputs": [],
   "source": []
  }
 ],
 "metadata": {
  "kernelspec": {
   "display_name": "Python 3",
   "language": "python",
   "name": "python3"
  },
  "language_info": {
   "codemirror_mode": {
    "name": "ipython",
    "version": 3
   },
   "file_extension": ".py",
   "mimetype": "text/x-python",
   "name": "python",
   "nbconvert_exporter": "python",
   "pygments_lexer": "ipython3",
   "version": "3.6.5"
  }
 },
 "nbformat": 4,
 "nbformat_minor": 2
}
