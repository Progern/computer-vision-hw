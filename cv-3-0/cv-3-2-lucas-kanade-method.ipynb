{
 "cells": [
  {
   "cell_type": "markdown",
   "metadata": {},
   "source": [
    "# Lucas-Kanade Tracking"
   ]
  },
  {
   "cell_type": "markdown",
   "metadata": {},
   "source": [
    "- Create a command-line tool (interactive notebook instead) that accepts the ROI of the target (the portion of the image should be tracked in the video) and the path to the dataset and performs tracking of the target over the image sequence from the dataset. \n",
    "\n",
    "- Visualize the current image and highligh the targets location by a rectangle.\n",
    "\n",
    "- Find conditions where tracking is lost and explain why."
   ]
  },
  {
   "cell_type": "markdown",
   "metadata": {},
   "source": [
    "## Problems"
   ]
  },
  {
   "cell_type": "markdown",
   "metadata": {},
   "source": [
    "- Implement template-matching in Python using SSD, NCC, SAD\n",
    "- Code Lucas-Kanade algorithm in Python using OpenCV\n",
    "- Implement pyramidal extension to Lucas-Kanade algorithm\n",
    "- Test on the 3 datasets \n",
    "\n",
    "*Datasets:* http://cvlab.hanyang.ac.kr/tracker_benchmark/datasets.html"
   ]
  },
  {
   "cell_type": "code",
   "execution_count": 4,
   "metadata": {},
   "outputs": [],
   "source": [
    "import cv2\n",
    "import numpy as np\n",
    "import os \n",
    "import matplotlib.pyplot as plt"
   ]
  },
  {
   "cell_type": "code",
   "execution_count": 11,
   "metadata": {},
   "outputs": [],
   "source": [
    "%matplotlib inline"
   ]
  },
  {
   "cell_type": "code",
   "execution_count": 15,
   "metadata": {},
   "outputs": [],
   "source": [
    "work_dir = os.getcwd()\n",
    "data_dir = os.path.join(work_dir, 'data')\n",
    "lucas_kanade_data_dir = os.path.join(data_dir, 'lucas_kanade')\n",
    "\n",
    "# Test images only to compare perfomance of handwritten methods to OpenCV \n",
    "messi_full_img = os.path.join(lucas_kanade_data_dir, 'messi_full.jpg')\n",
    "messi_face_img = os.path.join(lucas_kanade_data_dir, 'messi_face.jpg')"
   ]
  },
  {
   "cell_type": "markdown",
   "metadata": {},
   "source": [
    "## Problem 1. Implement template-matching using SSD, NCC, SAD"
   ]
  },
  {
   "cell_type": "code",
   "execution_count": 10,
   "metadata": {},
   "outputs": [],
   "source": [
    "def template_match_ssd(image, patch):\n",
    "    \"\"\"\n",
    "    Performs template matching usind Sum of Squared Differences\n",
    "    \n",
    "    Input:\n",
    "    image - numpy (w, h) matrix of grayscaled image\n",
    "    patch - numpy (k_w, k_h) matrix of grayscaled image patch\n",
    "    \"\"\"\n",
    "    \n",
    "    # Get the dimensions of the image and the patch\n",
    "    h, w = image.shape\n",
    "    k_h, k_w = patch.shape\n",
    "    \n",
    "    # Create matrix to store SSD between patch and sub-matrices of the image\n",
    "    ssd_scores = np.zeros((h - k_h, w - k_w))\n",
    "    \n",
    "    # Iterate over the image and calculate SSD\n",
    "    \n",
    "    for i in range(0, h - k_h):\n",
    "        for j in range(0, w - k_w):\n",
    "            score = (image[i:i + k_h, j:j + k_w] - patch)**2\n",
    "            ssd_scores[i, j] = score.sum()\n",
    "            \n",
    "    # Find the minimum points\n",
    "    min_points = np.unravel_index(ssd_scores.argmin(), ssd_scores.shape)\n",
    "    \n",
    "    return (min_points[1], min_points[0])    "
   ]
  },
  {
   "cell_type": "code",
   "execution_count": null,
   "metadata": {},
   "outputs": [],
   "source": [
    "def perform_matching_ssd(image_path, patch_path):\n",
    "    \"\"\"\n",
    "    Performs template matching using SSD method and \n",
    "    draws a rectangle on the most promising part of image\n",
    "    \n",
    "    Input:\n",
    "    image_path - string, absolute path to image frame\n",
    "    patch_path - string, absolute path to patch\n",
    "    \n",
    "    Output:\n",
    "    file with drawed rectangle\n",
    "    \"\"\"\n",
    "\n",
    "    # Colored image would be used for visualization\n",
    "    full_image = cv.imread(image_path)\n",
    "    full_image_gray = cv2.cvtColor(full_image, cv2.COLOR_BGR2GRAY)\n",
    "    \n",
    "    patch_image = cv.imread(patch_path, 0)\n",
    "    \n",
    "    # Dimensions of the image would be used for drawing a rectangle\n",
    "    h, w = full_image_gray.shape\n",
    "    \n",
    "    # Perform SSD matching\n",
    "    points = template_match_ssd(full_image_gray, patch_image)\n",
    "    \n",
    "    # Draw a rectangle\n",
    "    cv2.rectangle(full_image, (points[0], points[1] ), (points[0] + w, points[1] + h), (0, 0, 200), 3)\n",
    "    plt.imshow(full_image)"
   ]
  },
  {
   "cell_type": "code",
   "execution_count": null,
   "metadata": {},
   "outputs": [],
   "source": [
    "perform_matching_ssd()"
   ]
  }
 ],
 "metadata": {
  "kernelspec": {
   "display_name": "Python 3",
   "language": "python",
   "name": "python3"
  },
  "language_info": {
   "codemirror_mode": {
    "name": "ipython",
    "version": 3
   },
   "file_extension": ".py",
   "mimetype": "text/x-python",
   "name": "python",
   "nbconvert_exporter": "python",
   "pygments_lexer": "ipython3",
   "version": "3.6.7"
  }
 },
 "nbformat": 4,
 "nbformat_minor": 2
}
