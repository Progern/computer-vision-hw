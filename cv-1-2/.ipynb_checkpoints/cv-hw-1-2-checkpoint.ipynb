{
 "cells": [
  {
   "cell_type": "markdown",
   "metadata": {},
   "source": [
    "# FAST detector and BRIEF descriptor"
   ]
  },
  {
   "cell_type": "markdown",
   "metadata": {},
   "source": [
    "This notebook presents implementation of FAST detector and BRIEF descriptor as separate python script.\n",
    "\n",
    "Also there are some helper methods for blur addition, pixel restoration, etc."
   ]
  },
  {
   "cell_type": "code",
   "execution_count": 53,
   "metadata": {},
   "outputs": [],
   "source": [
    "import sys\n",
    "import cv2\n",
    "import os\n",
    "from matplotlib import pyplot as plt\n",
    "\n",
    "sys.path.insert(0, '../helpers/')\n",
    "\n",
    "from fast_brief import *"
   ]
  },
  {
   "cell_type": "code",
   "execution_count": 54,
   "metadata": {},
   "outputs": [],
   "source": [
    "%matplotlib inline"
   ]
  },
  {
   "cell_type": "code",
   "execution_count": 55,
   "metadata": {},
   "outputs": [],
   "source": [
    "img_in_path = os.path.join(os.getcwd(), 'tracking')"
   ]
  },
  {
   "cell_type": "markdown",
   "metadata": {},
   "source": [
    "## Feature detection using FAST"
   ]
  },
  {
   "cell_type": "markdown",
   "metadata": {},
   "source": [
    "![Fast feature detector](fast_example.jpg)"
   ]
  },
  {
   "cell_type": "markdown",
   "metadata": {},
   "source": [
    "*The highlighted squares are the pixels used in the corner detection. The pixel at p is the center of a candidate corner. The arc is indicated by the dashed line passes through 12 contiguous pixels which are brighter than p by more than the threshold.*\n",
    "\n",
    "The general algorithm goes like this:\n",
    "- Select a pixel **p** which is a point of interest in the image. The intensity of **p** is denoted as **Ip**.\n",
    "- Select threshold value **t**. This value is used to detect the contiguous pixels, that are brighter that **p** by value **t**\n",
    "- Concider a circle of 16 pixels around the interest pixel **p**. The circle is drawn with the **Midpoint circle algorithm** as it is **Bresenham circle**. \n",
    "- The pixel **p** is concidered a corner if there is a set of **n** contiguous pixels in the circle of 16 pixels (previous step) which are all brighter than the value **Ip + t** or darker than **Ip - t**\n",
    "- We first check pixels 1,5,9,13 in the image above with the **Ip** value. \n",
    "- If at least three of the four-pixel values are not **above or below Ip + t**, then p is not an interest point (corner). In this case **reject the pixel p as a possible interest point.**\n",
    "- Else if **at least three of the pixels are above or below Ip + t**, then check for all 16 pixels and check if 12 contiguous pixels fall in the criterion.\n",
    "\n",
    "\n",
    "First, for n<12, the algorithm does not work very well in all cases because when n<12 the number of interest points detected are very high. Second, the order in which the 16 pixels are queried determines the speed of the algorithm."
   ]
  },
  {
   "cell_type": "markdown",
   "metadata": {},
   "source": [
    "## Bresenham circle"
   ]
  },
  {
   "cell_type": "markdown",
   "metadata": {},
   "source": [
    "![Bresenham](bresenham.png)"
   ]
  },
  {
   "cell_type": "markdown",
   "metadata": {},
   "source": [
    "*This algorithm draws all eight octants simultaneously, starting from each cardinal direction (0°, 90°, 180°, 270°) and extends both ways to reach the nearest multiple of 45° (45°, 135°, 225°, 315°). It can determine where to stop because when y = x, it has reached 45°. The reason for using these angles is shown in the above picture: As y increases, it does not skip nor repeat any y value until reaching 45°. So during the while loop, y increments by 1 each iteration, and x decrements by 1 on occasion, never exceeding 1 in one iteration. This changes at 45° because that is the point where the tangent is rise=run. Whereas rise>run before and rise<run after.*\n",
    "\n",
    "*The second part of the problem, the determinant, is far trickier. This determines when to decrement x. It usually comes after drawing the pixels in each iteration, because it never goes below the radius on the first pixel. Because in a continuous function, the function for a sphere is the function for a circle with the radius dependent on z (or whatever the third variable is), it stands to reason that the algorithm for a discrete(voxel) sphere would also rely on this Midpoint circle algorithm. But when looking at a sphere, the integer radius of some adjacent circles is the same, but it is not expected to have the same exact circle adjacent to itself in the same hemisphere. Instead, a circle of the same radius needs a different determinant, to allow the curve to come in slightly closer to the center or extend out farther.*"
   ]
  },
  {
   "cell_type": "markdown",
   "metadata": {},
   "source": [
    "## Median blur "
   ]
  },
  {
   "cell_type": "markdown",
   "metadata": {},
   "source": [
    "The Median Filter is a non-linear digital filtering technique, often used to remove noise from an image or signal. \n",
    "\n",
    "The main idea of the median filter is to run through the signal entry by entry, replacing each entry with the median of neighboring entries. The pattern of neighbors is called the \"window\", which slides, entry by entry, over the entire signal. For 1D signals, the most obvious window is just the first few preceding and following entries, whereas for 2D (or higher-dimensional) signals such as images, more complex window patterns are possible (such as \"box\" or \"cross\" patterns).\n",
    "\n",
    "You could also apply **Gaussian blur** to the image by using *feature_detector_helper.py* function *gaussian_kernel*"
   ]
  },
  {
   "cell_type": "markdown",
   "metadata": {},
   "source": [
    "## Non-Maximum supression"
   ]
  },
  {
   "cell_type": "markdown",
   "metadata": {},
   "source": [
    "This technique is used to throw away irrelevant or repeating corners and thus faster up the algorithm overall. The usage of this technique was inspired by Tibliu.\n",
    "\n",
    "The algorithm goes next:\n",
    "\n",
    "- Check if corners *c_i* and *c_i-1* are adjacent, where *c_i* is current pixel and *c_i-1* is previous pixel. \n",
    "- If they are - discard one with the smallest value.\n",
    "- Repeat for all pixels."
   ]
  },
  {
   "cell_type": "markdown",
   "metadata": {},
   "source": [
    "## BRIEF feature descriptor"
   ]
  },
  {
   "cell_type": "markdown",
   "metadata": {},
   "source": [
    "BRIEF is very fast both to build and to match.BRIEF easily outperforms other fast descriptors such as SURF and SIFT in terms of speed and terms of recognition rate in many cases.\n",
    "\n",
    "After detecting keypoint we go on to compute a descriptor for every one of them. Feature descriptors encode interesting information into a series of numbers and act as a sort of numerical “fingerprint” that can be used to differentiate one feature from another."
   ]
  },
  {
   "cell_type": "markdown",
   "metadata": {},
   "source": [
    "![Brief patch](brief_keypoint_2.png)"
   ]
  },
  {
   "cell_type": "markdown",
   "metadata": {},
   "source": [
    "The neighbourhood pixels, defined around the keypoint is known as patch, which is usually a square of size *n by m*. Image patches could be eﬀectively classiﬁed on the basis of a relatively small number of pair-wise intensity comparisons. Brief convert image patches into a binary feature vector so that together they can represent an object."
   ]
  },
  {
   "cell_type": "markdown",
   "metadata": {},
   "source": [
    "![Brief patch](binary_feature_vector.png)"
   ]
  },
  {
   "cell_type": "markdown",
   "metadata": {},
   "source": [
    "## BRIEF sensitivity"
   ]
  },
  {
   "cell_type": "markdown",
   "metadata": {},
   "source": [
    "Brief deals with the image at pixel level so it is very noise-sensitive. By pre-smoothing the patch, this sensitivity can be reduced, thus increasing the stability and repeatability of the descriptors.\n",
    "\n",
    "The logic would be the same as with **FAST** corner detector - to apply median or Gaussian blur on the image with some relatively small kernel size in order to decrease the salt and pepper noise."
   ]
  },
  {
   "cell_type": "markdown",
   "metadata": {},
   "source": [
    "**The general algorithm flow could be described next:**\n",
    "\n",
    "- Pre-compute keypoints by some other algorithm (for example - FAST)\n",
    "- Smooth the image if it was not previously smoothed (usually it is)\n",
    "- Take each keypoint\n",
    "- Compute patch for this keypoint\n",
    "- Create a binary feature vector for this patch (we create binary feature vector of test responses tau). Choosing a set of n(x,y)-location pairs uniquely deﬁnes a set of binary tests.\n",
    "\n",
    "![Binary test](binary_test_2.png)\n",
    "\n",
    "- Select **n-test(random pairs** for creating output binary vector using Sampling Geometries\n",
    "\n",
    "![Sampling geometry](sampling_geometry.jpeg)\n",
    "\n",
    "We consider the size of patch p is *(S x S)* and assuming keypoint is **located in the center of the patch.**\n",
    "\n",
    "- **Uniform(G I):** Both x and y pixels in the random pair is drawn from a Unifrom distribution or spread of S/2 around keypoint. The pair(test) can lie close to the patch border.\n",
    "\n",
    "- **Gaussian(G II):** Both x and y pixels in the random pair is drawn from a Gaussian distribution or spread of 0.04 * S² around keypoint.\n",
    "\n",
    "- **Gaussian(G III):** The first pixel(x) in the random pair is drawn from a Gaussian distribution centered around the keypoint with a stranded deviation or spread of 0.04 * S². The second pixel(y) in the random pair is drawn from a Gaussian distribution centered around the first pixel(x) with a standard deviation or spread of 0.01 * S². This forces the test(pair) to be more local. Test(pair) locations outside the patch are clamped to the edge of the patch.\n",
    "\n",
    "- **Coarse Polar Grid(G IV):** Both x and y pixels in the random pair is sampled from discrete locations of a coarse polar grid introducing a spatial quantization.\n",
    "\n",
    "- **Coarse Polar Grid(G V):** The first pixel(x) in random pair is at (0, 0) and the second pixel(y) in the random pair is drawn from discrete locations of a coarse polar grid."
   ]
  },
  {
   "cell_type": "markdown",
   "metadata": {},
   "source": [
    "The plot of recognition rate for these images could be shown as\n",
    "\n",
    "![Recognition rate](recognition_rate.png)"
   ]
  },
  {
   "cell_type": "markdown",
   "metadata": {},
   "source": [
    "And the formula for calculating BRIEF descriptor function will look like\n",
    "\n",
    "![Brief formula](brief_formula.png)\n",
    "\n",
    "Most of the sources are from Michael Calonder, Vincent Lepetit, et al. *BRIEF: Binary Robust Independent Elementary Features*"
   ]
  },
  {
   "cell_type": "code",
   "execution_count": 43,
   "metadata": {},
   "outputs": [],
   "source": [
    "def compute_binary_vector(image, keypoint, n, patch_size, seed):\n",
    "    '''\n",
    "    Computes BRIEF binary vector for one keypoint.\n",
    "    image - image matrix \n",
    "    keypoint - tuple of (x,y) coordinates\n",
    "    n - size of output vector\n",
    "    patch_size - size of patch square around keypoint \n",
    "    \n",
    "    Returns vector of size n containing binary values.\n",
    "    '''\n",
    "    np.random.seed(seed)\n",
    "    \n",
    "    # Create empty array for storing binary values\n",
    "    output_arr = np.zeros(n, dtype = np.int8)\n",
    "    \n",
    "    # Compute value of diagonal, assuming keypoint is in the middle of the patch\n",
    "    x, y = keypoint\n",
    "    diagonal = patch_size / 2\n",
    "    \n",
    "    # We need to check if the keypoint patch is in the bounds of the image\n",
    "    x_max, y_max = image.shape\n",
    "    \n",
    "    # Check if our keypoint is not too near to the right edge \n",
    "    if((x - diagonal < 0) or (y - diagonal < 0) or (x + diagonal > x_max) or (y + diagonal > y_max)):\n",
    "        return None\n",
    "    \n",
    "    # Coordinates of patch square   \n",
    "    x0 = int(x - diagonal)\n",
    "    y0 = int(y - diagonal)\n",
    "    x1 = int(x + diagonal)\n",
    "    y1 = int(y + diagonal)\n",
    "    \n",
    "    # Extract patch from image\n",
    "    patch = image[x0:x1, y0:y1]\n",
    "        \n",
    "    for i in range(n):\n",
    "        # Get intensity of keypoint\n",
    "        Ip = image[x, y]\n",
    "        \n",
    "        # Get random uniform value for point in patch\n",
    "        x_rand = int(np.random.uniform(low = x0, high = x1))\n",
    "        y_rand = int(np.random.uniform(low = y0, high = y1))\n",
    "        \n",
    "        # Get intensity of random point\n",
    "        Ir = image[x_rand, y_rand]\n",
    "        \n",
    "        if(Ip < Ir):\n",
    "            output_arr[i] = 1\n",
    "    \n",
    "    return output_arr"
   ]
  },
  {
   "cell_type": "code",
   "execution_count": 56,
   "metadata": {},
   "outputs": [],
   "source": [
    "def compute_descriptors(image, key_points, n = 128, patch_size = 32, seed = 10):\n",
    "    '''\n",
    "    Computes descriptor for each of the key points and\n",
    "    \n",
    "    image - image matrix\n",
    "    key_points - array of key points calculated by some algorithm, for ex. FAST or SIFT\n",
    "    n - size of descriptor vector\n",
    "    patch_size - size of surrounding patch for each key point\n",
    "    seed - random seed for numpy uniform probability distribution\n",
    "    \n",
    "    returns list of descriptor vectors\n",
    "    '''\n",
    "    descriptors = []\n",
    "    \n",
    "    for key_point in key_points:\n",
    "        x, y = key_point[0], key_point[1]\n",
    "        key_point_descriptor = compute_binary_vector(image, (x,y), n, patch_size, seed)\n",
    "        \n",
    "        if(key_point_descriptor is not None):\n",
    "            descriptors.append(key_point_descriptor)\n",
    "\n",
    "    return descriptors"
   ]
  },
  {
   "cell_type": "markdown",
   "metadata": {},
   "source": [
    "## Testing the solutions"
   ]
  },
  {
   "cell_type": "code",
   "execution_count": 57,
   "metadata": {},
   "outputs": [],
   "source": [
    "def get_test_image_path(image_name):\n",
    "    return os.path.join(img_in_path, image_name + '.png')\n",
    "\n",
    "def detect_corners_on_image(image_name, threshold):\n",
    "    sample_image = cv2.imread(get_test_image_path(image_name), 0)\n",
    "    corners = fast_detection(sample_image, threshold = threshold)\n",
    "    print(\"Found %d corners on image %s\" % (len(corners), image_name))\n",
    "    \n",
    "    descriptors = compute_descriptors(sample_image, corners)\n",
    "    print(\"Found %d descriptors on image %s\" % (len(descriptors), image_name))\n",
    "\n",
    "    plt.figure(figsize=(6,4))\n",
    "    implot = plt.imshow(sample_image, cmap='gray')\n",
    "\n",
    "    for corner in corners:\n",
    "        plt.scatter(corner[0], corner[1], s=1, c = 'red')\n",
    "    \n",
    "    plt.title(\"Corners on %s\" % image_name)\n",
    "    plt.show()"
   ]
  },
  {
   "cell_type": "code",
   "execution_count": 58,
   "metadata": {},
   "outputs": [
    {
     "name": "stdout",
     "output_type": "stream",
     "text": [
      "Found 367 corners on image rotation_2_0\n",
      "Found 356 descriptors on image rotation_2_0\n"
     ]
    },
    {
     "data": {
      "image/png": "[encoded data removed]",
      "text/plain": [
       "<Figure size 432x288 with 1 Axes>"
      ]
     },
     "metadata": {},
     "output_type": "display_data"
    }
   ],
   "source": [
    "detect_corners_on_image('rotation_2_0', threshold = 35)"
   ]
  },
  {
   "cell_type": "code",
   "execution_count": null,
   "metadata": {},
   "outputs": [],
   "source": []
  }
 ],
 "metadata": {
  "kernelspec": {
   "display_name": "Python 3",
   "language": "python",
   "name": "python3"
  },
  "language_info": {
   "codemirror_mode": {
    "name": "ipython",
    "version": 3
   },
   "file_extension": ".py",
   "mimetype": "text/x-python",
   "name": "python",
   "nbconvert_exporter": "python",
   "pygments_lexer": "ipython3",
   "version": "3.6.5"
  }
 },
 "nbformat": 4,
 "nbformat_minor": 2
}
