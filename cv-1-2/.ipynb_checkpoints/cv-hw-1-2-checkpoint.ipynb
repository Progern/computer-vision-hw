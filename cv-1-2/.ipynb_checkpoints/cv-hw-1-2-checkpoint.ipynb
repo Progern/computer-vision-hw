{
 "cells": [
  {
   "cell_type": "markdown",
   "metadata": {},
   "source": [
    "# FAST detector and BRIEF descriptor"
   ]
  },
  {
   "cell_type": "markdown",
   "metadata": {},
   "source": [
    "This notebook presents implementation of FAST detector and BRIEF descriptor as separate python script.\n",
    "\n",
    "Also there are some helper methods for blur addition, pixel restoration, etc."
   ]
  },
  {
   "cell_type": "code",
   "execution_count": 1,
   "metadata": {},
   "outputs": [],
   "source": [
    "import sys\n",
    "\n",
    "sys.path.insert(0, '../helpers/')"
   ]
  },
  {
   "cell_type": "code",
   "execution_count": 2,
   "metadata": {},
   "outputs": [],
   "source": [
    "img_in_path = './res/tracking/'"
   ]
  },
  {
   "cell_type": "markdown",
   "metadata": {},
   "source": [
    "## Feature detection using FAST"
   ]
  },
  {
   "cell_type": "markdown",
   "metadata": {},
   "source": [
    "![Fast feature detector](fast_example.jpg)"
   ]
  },
  {
   "cell_type": "markdown",
   "metadata": {},
   "source": [
    "*The highlighted squares are the pixels used in the corner detection. The pixel at p is the center of a candidate corner. The arc is indicated by the dashed line passes through 12 contiguous pixels which are brighter than p by more than the threshold.*\n",
    "\n",
    "The general algorithm goes like this:\n",
    "- Select a pixel **p** which is a point of interest in the image. The intensity of **p** is denoted as **Ip**.\n",
    "- Select threshold value **t**. This value is used to detect the contiguous pixels, that are brighter that **p** by value **t**\n",
    "- Concider a circle of 16 pixels around the interest pixel **p**. The circle is drawn with the **Midpoint circle algorithm** as it is **Bresenham circle**. \n",
    "- The pixel **p** is concidered a corner if there is a set of **n** contiguous pixels in the circle of 16 pixels (previous step) which are all brighter than the value **Ip + t** or darker than **Ip - t**\n",
    "- We first check pixels 1,5,9,13 in the image above with the **Ip** value. \n",
    "- If at least three of the four-pixel values are not **above or below Ip + t**, then p is not an interest point (corner). In this case **reject the pixel p as a possible interest point.**\n",
    "- Else if **at least three of the pixels are above or below Ip + t**, then check for all 16 pixels and check if 12 contiguous pixels fall in the criterion.\n",
    "\n",
    "\n",
    "First, for n<12, the algorithm does not work very well in all cases because when n<12 the number of interest points detected are very high. Second, the order in which the 16 pixels are queried determines the speed of the algorithm."
   ]
  },
  {
   "cell_type": "markdown",
   "metadata": {},
   "source": [
    "## Bresenham circle"
   ]
  },
  {
   "cell_type": "markdown",
   "metadata": {},
   "source": [
    "![Bresenham](bresenham.png)"
   ]
  },
  {
   "cell_type": "markdown",
   "metadata": {},
   "source": [
    "*This algorithm draws all eight octants simultaneously, starting from each cardinal direction (0°, 90°, 180°, 270°) and extends both ways to reach the nearest multiple of 45° (45°, 135°, 225°, 315°). It can determine where to stop because when y = x, it has reached 45°. The reason for using these angles is shown in the above picture: As y increases, it does not skip nor repeat any y value until reaching 45°. So during the while loop, y increments by 1 each iteration, and x decrements by 1 on occasion, never exceeding 1 in one iteration. This changes at 45° because that is the point where the tangent is rise=run. Whereas rise>run before and rise<run after.*\n",
    "\n",
    "*The second part of the problem, the determinant, is far trickier. This determines when to decrement x. It usually comes after drawing the pixels in each iteration, because it never goes below the radius on the first pixel. Because in a continuous function, the function for a sphere is the function for a circle with the radius dependent on z (or whatever the third variable is), it stands to reason that the algorithm for a discrete(voxel) sphere would also rely on this Midpoint circle algorithm. But when looking at a sphere, the integer radius of some adjacent circles is the same, but it is not expected to have the same exact circle adjacent to itself in the same hemisphere. Instead, a circle of the same radius needs a different determinant, to allow the curve to come in slightly closer to the center or extend out farther.*"
   ]
  },
  {
   "cell_type": "code",
   "execution_count": 3,
   "metadata": {},
   "outputs": [],
   "source": [
    "def bresenham_circle_points(x, y):\n",
    "    '''\n",
    "    Return a list of tuples each of them corresponds to \n",
    "    a points in the Bresenham circle algorithm\n",
    "    '''\n",
    "    \n",
    "    p1 = (x+3, y)\n",
    "    p3 = (x+3, y-1)\n",
    "    p5 = (x+1, y+3)\n",
    "    p7 = (x-1, y+3)\n",
    "    p9 = (x-3, y)\n",
    "    p11 = (x-3, y-1)\n",
    "    p13 = (x+1, y-3)\n",
    "    p15 = (x-1, y-3)\n",
    "    \n",
    "    return [p1, p3, p5, p7, p9, p11, p13, p15]"
   ]
  },
  {
   "cell_type": "code",
   "execution_count": 7,
   "metadata": {},
   "outputs": [],
   "source": [
    "# Inspiration for these methods was taken from Tibliu\n",
    "\n",
    "def insertionSort(lst):\n",
    "    '''\n",
    "    Performs and insertion sort into the window \n",
    "    if values. Specific version for median kernel blur.\n",
    "    Inpisred by Tibliu.\n",
    "    '''\n",
    "    for index in range(1, len(lst)):\n",
    "        currentvalue = lst[index]\n",
    "        position = index\n",
    "\n",
    "        while position > 0 and lst[position - 1] > currentvalue:\n",
    "            lst[position] = lst[position - 1]\n",
    "            position = position - 1\n",
    "\n",
    "        lst[position] = currentvalue\n",
    "\n",
    "def median_kernel_blur(image, x0, y0, x1, y1, n = 5):\n",
    "    '''\n",
    "    Applies median blur on an image patch (x0, y0) - (x1,y1) to remove salt and pepper noise.\n",
    "    Median blur replaces each pixel with the median of the NxN pixels surrounding it.\n",
    "    \n",
    "    The salt and pepper noise is the main reason of bad corner detection.\n",
    "    '''\n",
    "    \n",
    "    dst = image[:] \n",
    "    for y in range(x0, y0):\n",
    "        for x in range(x1, y1):\n",
    "            window = []\n",
    "            for i in range(y - N // 2, y + N // 2 + 1):\n",
    "                for j in range(x - N//2, x + N//2 + 1):\n",
    "                    window.append(image[i][j])\n",
    "            insertionSort(window)\n",
    "            dst[y][x] = window[len(window)//2]\n",
    "\n",
    "    return dst"
   ]
  },
  {
   "cell_type": "code",
   "execution_count": 5,
   "metadata": {},
   "outputs": [],
   "source": [
    "def is_corner(image, x, y, bresenham_circle, threshold):\n",
    "    '''\n",
    "    Identifies is the pixel at (x,y) is a corner by \n",
    "    comparing with corresponding pixels in bresenham_circle\n",
    "    and the provided threshold\n",
    "    '''\n",
    "    \n",
    "    # Interest pixel indensity\n",
    "    Ip = int(image[x,y])\n",
    "    \n",
    "    # Get the values of corresponding Bresenham circle pixels\n",
    "    \n",
    "    x1, y1 = bresenham_circle[0]\n",
    "    x5, y5 = bresenham_circle[2]\n",
    "    x9, y9 = bresenham_circle[4]\n",
    "    x13, y13 = bresenham_circle[6]\n",
    "    \n",
    "    # Get the intensities of corresponding Bresenham cardinal direction pixels\n",
    "    \n",
    "    I1 = int(image[x1, y1])\n",
    "    I5 = int(image[x5 , y5])\n",
    "    I9 = int(image[x9, y9])\n",
    "    I13 = int(image[x13, y13])\n",
    "    \n",
    "    # Define the count of cardinal pixels that are brighter/darker by threshold value than the (x,y)\n",
    "    \n",
    "    count = 0\n",
    "    \n",
    "    # Check for particular differences in intensity\n",
    "    \n",
    "    if abs(I1 - Ip) > threshold:\n",
    "        count += 1 \n",
    "    if abs(I5 - Ip) > threshold:\n",
    "        count += 1\n",
    "    if abs(I9 - Ip) > threshold:\n",
    "        count += 1\n",
    "    if abs(I13 - Ip) > threshold:\n",
    "        count += 1\n",
    "\n",
    "    \n",
    "    return count >= 3"
   ]
  },
  {
   "cell_type": "code",
   "execution_count": 6,
   "metadata": {},
   "outputs": [],
   "source": [
    "def are_adjacent(p1, p2):\n",
    "    '''\n",
    "    Identifies if two points are adjacent by calculating distance in terms of x, y for borth\n",
    "    Two points are adjacent if they are within four pixels of each other (Euclidean distance)\n",
    "    \n",
    "    Accepts two tuples of type (x,y)\n",
    "    '''\n",
    "    \n",
    "    x1, y1 = p1\n",
    "    x2, y2 = p2\n",
    "    \n",
    "    x_d = x1 - x2\n",
    "    y_d = x2 - y2\n",
    "    \n",
    "    return (x_d ** 2 + y_d ** 2) ** 0.5 <= 4"
   ]
  },
  {
   "cell_type": "code",
   "execution_count": null,
   "metadata": {},
   "outputs": [],
   "source": []
  }
 ],
 "metadata": {
  "kernelspec": {
   "display_name": "Python 3",
   "language": "python",
   "name": "python3"
  },
  "language_info": {
   "codemirror_mode": {
    "name": "ipython",
    "version": 3
   },
   "file_extension": ".py",
   "mimetype": "text/x-python",
   "name": "python",
   "nbconvert_exporter": "python",
   "pygments_lexer": "ipython3",
   "version": "3.6.5"
  }
 },
 "nbformat": 4,
 "nbformat_minor": 2
}
